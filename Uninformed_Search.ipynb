{
 "cells": [
  {
   "cell_type": "code",
   "execution_count": 3,
   "metadata": {},
   "outputs": [],
   "source": [
    "import math\n",
    "from collections import defaultdict, deque, Counter\n",
    "from queue import PriorityQueue,Queue\n",
    "FIFOQueue = deque\n",
    "LIFOQueue = list\n",
    "\n",
    "class Node:\n",
    "    \"A Node in a search tree.\"\n",
    "    def __init__(self, state, parent=None, action=None, path_cost=0):\n",
    "        self.__dict__.update(state=state, parent=parent, action=action, path_cost=path_cost)\n",
    "\n",
    "\n",
    "    def __len__(self): return 0 if self.parent is None else (1 + len(self.parent))\n",
    "    def __lt__(self, other): return self.path_cost < other.path_cost\n",
    "\n",
    "    \n",
    "    \n",
    "failure = Node('failure', path_cost=math.inf) # Indicates an algorithm couldn't find a solution.\n",
    "cutoff  = Node('cutoff',  path_cost=math.inf) # Indicates iterative deepening search was cut off.\n",
    "    \n",
    "    \n",
    "def expand(problem, node):\n",
    "    \"\"\"\"Expand a node, generating the children nodes.\n",
    "    function EXPAND( node, problem) \n",
    "        '''returns a set of nodes'''\n",
    "    successors ← the empty set\n",
    "    for each 〈action, result〉 in SUCCESSOR-FN[ problem](STATE[node]) do\n",
    "    s ← a new NODE\n",
    "    STATE[s] ← result\n",
    "    PARENT-NODE[s] ← node\n",
    "    ACTION[s] ← action\n",
    "    PATH-COST[s] ← PATH-COST[node] + STEP-COST(node, action, s)\n",
    "    DEPTH[s] ← DEPTH[node] + 1\n",
    "    add s to successors\n",
    "    return successors\n",
    "    \"\"\"\n",
    "    s = node.state\n",
    "    for action in problem.actions(s):\n",
    "        s1 = problem.result(s, action)\n",
    "        cost = node.path_cost + problem.action_cost(s, action, s1)\n",
    "        yield Node(s1, node, action, cost)\n",
    "        "
   ]
  },
  {
   "cell_type": "code",
   "execution_count": 4,
   "metadata": {},
   "outputs": [
    {
     "name": "stdout",
     "output_type": "stream",
     "text": [
      "Edges DataFrame:\n",
      "   Start_Node End_Node  Cost\n",
      "0           O        Z    71\n",
      "1           O        S   151\n",
      "2           A        Z    75\n",
      "3           A        S   140\n",
      "4           A        T   118\n",
      "5           L        T   111\n",
      "6           L        M    70\n",
      "7           D        M    75\n",
      "8           C        D   120\n",
      "9           C        R   146\n",
      "10          C        P   138\n",
      "11          R        S    80\n",
      "12          F        S    99\n",
      "13          B        F   211\n",
      "14          B        P   101\n",
      "15          B        G    90\n",
      "16          B        U    85\n",
      "17          H        U    98\n",
      "18          E        H    86\n",
      "19          U        V   142\n",
      "20          I        V    92\n",
      "21          I        N    87\n",
      "22          P        R    97\n"
     ]
    }
   ],
   "source": [
    "import pandas as pd\n",
    "\n",
    "# Map data\n",
    "edges_data = {\n",
    "    'Start_Node': ['O', 'O', 'A', 'A', 'A', 'L', 'L', 'D', 'C', 'C', 'C', 'R', 'F', 'B', 'B', 'B', 'B', 'H', 'E', 'U', 'I', 'I', 'P'],\n",
    "    'End_Node': ['Z', 'S', 'Z', 'S', 'T', 'T', 'M', 'M', 'D', 'R', 'P', 'S', 'S', 'F', 'P', 'G', 'U', 'U', 'H', 'V', 'V', 'N', 'R'],\n",
    "    'Cost': [71, 151, 75, 140, 118, 111, 70, 75, 120, 146, 138, 80, 99, 211, 101, 90, 85, 98, 86, 142, 92, 87, 97]\n",
    "}\n",
    "\n",
    "edges_df = pd.DataFrame(edges_data)\n",
    "\n",
    "print(\"Edges DataFrame:\")\n",
    "print(edges_df)\n",
    "\n"
   ]
  },
  {
   "cell_type": "code",
   "execution_count": 45,
   "metadata": {},
   "outputs": [],
   "source": [
    "# The pandas version\n",
    "\n",
    "class Map:\n",
    "    \"\"\"Bản đồ của các địa điểm: một đồ thị với các đỉnh và liên kết giữa chúng. \n",
    "    Trong `Map(links, locations)`, `links` là DataFrame có cột 'Start_Node', 'End_Node' và 'Cost'. \n",
    "    Nếu `directed=False` thì đối với mỗi liên kết (v1, v2), chúng ta thêm một liên kết (v2, v1).\"\"\"\n",
    "\n",
    "    def __init__(self, links, directed=False):\n",
    "        if isinstance(links, pd.DataFrame):\n",
    "            links_dict = {(row['Start_Node'], row['End_Node']): row['Cost'] for _, row in links.iterrows()}  \n",
    "        if not directed:\n",
    "            links_dict = {**links_dict, **{(v2, v1): cost for (v1, v2), cost in links_dict.items()}}\n",
    "            \n",
    "        \n",
    "        self.distances = links_dict\n",
    "        self.neighbors = self.create_neighbors(links_dict)\n",
    "        \n",
    "            \n",
    "    def create_neighbors(self, links):\n",
    "        \"\"\"Given (key, val) pairs, make a dict of {key: [val,...]}.\"\"\"\n",
    "        result = defaultdict(list)\n",
    "        for (v1, v2) ,_ in links.items():\n",
    "            result[v1].append(v2)       \n",
    "        return result\n"
   ]
  },
  {
   "cell_type": "code",
   "execution_count": 46,
   "metadata": {},
   "outputs": [],
   "source": [
    "map_object = Map(edges_df,False)"
   ]
  },
  {
   "cell_type": "code",
   "execution_count": 27,
   "metadata": {},
   "outputs": [],
   "source": [
    "class Map:\n",
    "    \"\"\"Bản đồ của các địa điểm : một đồ thị với các đỉnh và liên kết giữa chúng. \n",
    "    Trong `Map(links, locations)`, `links` có thể là cặp [(v1, v2)...], \n",
    "    hoặc một từ điển {(v1, v2): khoảng cách...}. Tham số tùy chọn `locations` có thể là {v1: (x, y)} \n",
    "    Nếu `directed=False` thì đối với mỗi liên kết (v1, v2), chúng ta thêm một liên kết (v2, v1).\"\"\"\n",
    "\n",
    "\n",
    "    def __init__(self, links, locations=None, directed=False):\n",
    "        if not hasattr(links, 'items'): # Distances are 1 by default\n",
    "            links = {link: 1 for link in links}\n",
    "        if not directed:\n",
    "            for (v1, v2) in list(links):\n",
    "                links[v2, v1] = links[v1, v2]\n",
    "        self.distances = links\n",
    "        self.neighbors = multimap(links)\n",
    "        self.locations = locations or defaultdict(lambda: (0, 0))\n",
    "        print(self.neighbors)\n",
    "        \n",
    "def multimap(pairs) -> dict:\n",
    "    \"Given (key, val) pairs, make a dict of {key: [val,...]}.\"\n",
    "    result = defaultdict(list)\n",
    "    for key, val in pairs:\n",
    "        result[key].append(val)\n",
    "    return result"
   ]
  },
  {
   "cell_type": "code",
   "execution_count": 43,
   "metadata": {},
   "outputs": [],
   "source": [
    "class RomaniaProblem:\n",
    "    \"\"\"A problem to find a route between locations on a `Map`.\n",
    "    Create a problem with RomaniaProblem(start, goal, map=Map(...)}).\"\"\"\n",
    "\n",
    "    def __init__(self, initial=None, goal=None, map=None):\n",
    "        self.initial = initial\n",
    "        self.goal = goal\n",
    "        self.map = map\n",
    "\n",
    "    def actions(self, state):\n",
    "        \"\"\"The places neighboring `state`.\"\"\"\n",
    "        return self.map.neighbors[state]\n",
    "\n",
    "    def result(self, state, action):\n",
    "        \"\"\"Go to the `action` place, if it possible.\"\"\"\n",
    "        return action if action in self.map.neighbors[state] else state\n",
    "\n",
    "    def is_goal(self, state):\n",
    "        \"\"\"Check if the state is the goal state.\"\"\"\n",
    "        return state == self.goal\n",
    "\n",
    "    def action_cost(self, s, action, s1):\n",
    "        \"\"\"The distance (cost) to go from s to s1.\"\"\"\n",
    "        return self.map.distances[s, s1]\n",
    "\n",
    "\n",
    "    def __str__(self):\n",
    "        return '{}({!r}, {!r})'.format(type(self).__name__, self.initial, self.goal)\n",
    "\n",
    "    "
   ]
  },
  {
   "cell_type": "code",
   "execution_count": null,
   "metadata": {},
   "outputs": [],
   "source": [
    "romania = Map(\n",
    "    {('O', 'Z'):  71, ('O', 'S'): 151, ('A', 'Z'): 75, ('A', 'S'): 140, ('A', 'T'): 118, \n",
    "     ('L', 'T'): 111, ('L', 'M'):  70, ('D', 'M'): 75, ('C', 'D'): 120, ('C', 'R'): 146, \n",
    "     ('C', 'P'): 138, ('R', 'S'):  80, ('F', 'S'): 99, ('B', 'F'): 211, ('B', 'P'): 101, \n",
    "     ('B', 'G'):  90, ('B', 'U'):  85, ('H', 'U'): 98, ('E', 'H'):  86, ('U', 'V'): 142, \n",
    "     ('I', 'V'):  92, ('I', 'N'):  87, ('P', 'R'): 97},\n",
    "    None)"
   ]
  },
  {
   "cell_type": "code",
   "execution_count": 47,
   "metadata": {},
   "outputs": [],
   "source": [
    "problem = RomaniaProblem('A', 'B', map=map_object)"
   ]
  },
  {
   "cell_type": "markdown",
   "metadata": {},
   "source": [
    "# BFS"
   ]
  },
  {
   "cell_type": "code",
   "execution_count": 11,
   "metadata": {},
   "outputs": [],
   "source": [
    "def breadth_first_search(problem):\n",
    "    \"Search shallowest nodes in the search tree first.\"\n",
    "    node = Node(problem.initial)\n",
    "    if problem.is_goal(problem.initial):\n",
    "        return node\n",
    "    frontier = Queue()\n",
    "    frontier.put(node)\n",
    "    reached = {problem.initial}\n",
    "    while not frontier.empty():\n",
    "        node = frontier.get()\n",
    "        for child in expand(problem, node):\n",
    "            s = child.state\n",
    "            if problem.is_goal(s):\n",
    "                return child\n",
    "            if s not in reached:\n",
    "                reached.add(s)\n",
    "                frontier.put(child)\n",
    "    return failure"
   ]
  },
  {
   "cell_type": "code",
   "execution_count": 48,
   "metadata": {},
   "outputs": [
    {
     "name": "stdout",
     "output_type": "stream",
     "text": [
      "Solution Path from A: S -> F -> B\n"
     ]
    }
   ],
   "source": [
    "solution_node = breadth_first_search(problem)\n",
    "\n",
    "if solution_node:\n",
    "    path = []\n",
    "    while solution_node:\n",
    "        path.insert(0, solution_node.state)\n",
    "        solution_node = solution_node.parent\n",
    "    print(\"Solution Path from {}: {}\".format(problem.initial, ' -> '.join(path)))\n",
    "else:\n",
    "    print(\"No solution found.\")\n"
   ]
  },
  {
   "cell_type": "markdown",
   "metadata": {},
   "source": [
    "# Uniform"
   ]
  },
  {
   "cell_type": "code",
   "execution_count": 13,
   "metadata": {},
   "outputs": [],
   "source": [
    "from queue import PriorityQueue\n",
    "\n",
    "def uniform_cost_search(problem):\n",
    "    \"Dijkstra search nodes with minimum path cost first.\"\n",
    "    frontier = PriorityQueue()\n",
    "    initial_node = Node(problem.initial)\n",
    "    frontier.put((0, initial_node))\n",
    "    reached = {problem.initial: initial_node}\n",
    "\n",
    "    while not frontier.empty():\n",
    "        _, node = frontier.get()\n",
    "\n",
    "        if problem.is_goal(node.state):\n",
    "            return node\n",
    "\n",
    "        for child in expand(problem, node):\n",
    "            s = child.state\n",
    "            if s not in reached or child.path_cost < reached[s].path_cost:\n",
    "                reached[s] = child\n",
    "                frontier.put((child.path_cost, child))\n",
    "\n",
    "    return failure\n"
   ]
  },
  {
   "cell_type": "code",
   "execution_count": 14,
   "metadata": {},
   "outputs": [
    {
     "name": "stdout",
     "output_type": "stream",
     "text": [
      "Solution Path from A: S -> R -> P -> B\n"
     ]
    }
   ],
   "source": [
    "solution_node = uniform_cost_search(problem)\n",
    "\n",
    "if solution_node:\n",
    "    path = []\n",
    "    while solution_node:\n",
    "        path.insert(0, solution_node.state)\n",
    "        solution_node = solution_node.parent\n",
    "    print(\"Solution Path from {}: {}\".format(problem.initial, ' -> '.join(path)))\n",
    "else:\n",
    "    print(\"No solution found.\")"
   ]
  },
  {
   "cell_type": "markdown",
   "metadata": {},
   "source": [
    "# DFS"
   ]
  },
  {
   "cell_type": "code",
   "execution_count": 15,
   "metadata": {},
   "outputs": [],
   "source": [
    "from queue import LifoQueue\n",
    "## well, it's different so i try list :D because list is stack in this case\n",
    "def depth_first_search(problem):\n",
    "    \"Search nodes with a depth-first strategy.\"\n",
    "    frontier = LifoQueue()\n",
    "    initial_node = Node(problem.initial)\n",
    "    frontier.put(initial_node)\n",
    "    reached = {problem.initial}\n",
    "\n",
    "    while not frontier.empty():\n",
    "        node = frontier.get()\n",
    "\n",
    "        if problem.is_goal(node.state):\n",
    "            return node\n",
    "\n",
    "        children = list(expand(problem, node))\n",
    "        for child in reversed(children):\n",
    "            s = child.state\n",
    "            if s not in reached:\n",
    "                reached.add(s)\n",
    "                frontier.put(child)\n",
    "\n",
    "    return failure\n",
    "\n"
   ]
  },
  {
   "cell_type": "code",
   "execution_count": 16,
   "metadata": {},
   "outputs": [],
   "source": [
    "def depth_first_search(problem):\n",
    "    \"Search deepest nodes in the search tree first.\"\n",
    "    frontier = LIFOQueue([Node(problem.initial)])\n",
    "    result = failure\n",
    "    while frontier:\n",
    "        node = frontier.pop()\n",
    "        if problem.is_goal(node.state):\n",
    "            return node\n",
    "\n",
    "        for child in expand(problem, node):\n",
    "            frontier.append(child)\n",
    "    return result"
   ]
  },
  {
   "cell_type": "code",
   "execution_count": 17,
   "metadata": {},
   "outputs": [
    {
     "name": "stdout",
     "output_type": "stream",
     "text": [
      "Solution Path from A : T -> L -> M -> D -> C -> P -> B\n"
     ]
    }
   ],
   "source": [
    "solution_node = depth_first_search(problem)\n",
    "\n",
    "if solution_node:\n",
    "    path = []\n",
    "    while solution_node:\n",
    "        path.insert(0, solution_node.state)\n",
    "        solution_node = solution_node.parent\n",
    "    print(\"Solution Path from {} : {}\".format(problem.initial, ' -> '.join(path)))\n",
    "else:\n",
    "    print(\"No solution found.\")"
   ]
  },
  {
   "cell_type": "markdown",
   "metadata": {},
   "source": [
    "# DLS"
   ]
  },
  {
   "cell_type": "code",
   "execution_count": 18,
   "metadata": {},
   "outputs": [],
   "source": [
    "def is_cycle(node, k=10):\n",
    "    \"Does this node form a cycle of length k or less?\"\n",
    "    def find_cycle(origin, k):\n",
    "        return (origin is not None and k > 0 and\n",
    "                (origin.state == node.state or find_cycle(origin.parent, k - 1)))\n",
    "    return find_cycle(node.parent, k)"
   ]
  },
  {
   "cell_type": "code",
   "execution_count": 19,
   "metadata": {},
   "outputs": [],
   "source": [
    "def depth_limited_search(problem, limit=1):\n",
    "    \"Search deepest nodes in the search tree first.\"\n",
    "    frontier = LIFOQueue([Node(problem.initial)])\n",
    "    result = failure\n",
    "    while frontier:\n",
    "        node = frontier.pop()\n",
    "        if problem.is_goal(node.state):\n",
    "            return node\n",
    "        elif len(node) >= limit:\n",
    "            result = cutoff\n",
    "        elif not is_cycle(node):\n",
    "            for child in expand(problem, node):\n",
    "                frontier.append(child)\n",
    "    return result"
   ]
  },
  {
   "cell_type": "code",
   "execution_count": 20,
   "metadata": {},
   "outputs": [
    {
     "name": "stdout",
     "output_type": "stream",
     "text": [
      "No solution found.\n"
     ]
    }
   ],
   "source": [
    "solution_node = depth_limited_search(problem, limit = 1) # < 10 nice\n",
    "\n",
    "if solution_node:\n",
    "    path = []\n",
    "    while solution_node:\n",
    "        path.insert(0, solution_node.state)\n",
    "        solution_node = solution_node.parent\n",
    "    print(\"Solution Path from {} : {}\".format(problem.initial, ' -> '.join(path)))\n",
    "else:\n",
    "    print(\"No solution found.\")"
   ]
  },
  {
   "cell_type": "markdown",
   "metadata": {},
   "source": [
    "# IDS (Iterative Deepening Search)"
   ]
  },
  {
   "cell_type": "markdown",
   "metadata": {},
   "source": [
    "pseudo :  \n",
    "    depth 0 - > inf \n",
    "    res = DLS(prob,depth)\n",
    "    if res != cutoff :\n",
    "        result\n"
   ]
  },
  {
   "cell_type": "code",
   "execution_count": 21,
   "metadata": {},
   "outputs": [],
   "source": [
    "import numpy as np\n",
    "def iterative_deepening_search(problem):\n",
    "    \"Do depth-limited search with increasing depth limits.\"\n",
    "    for limit in range(1, 999999999999999):\n",
    "        result = depth_limited_search(problem, limit)\n",
    "        if result != cutoff:\n",
    "            return result"
   ]
  },
  {
   "cell_type": "code",
   "execution_count": 22,
   "metadata": {},
   "outputs": [
    {
     "name": "stdout",
     "output_type": "stream",
     "text": [
      "Solution Path from A : S -> F -> B\n"
     ]
    }
   ],
   "source": [
    "solution_node = iterative_deepening_search(problem) # < 10 nice\n",
    "\n",
    "if solution_node:\n",
    "    path = []\n",
    "    while solution_node:\n",
    "        path.insert(0, solution_node.state)\n",
    "        solution_node = solution_node.parent\n",
    "    print(\"Solution Path from {} : {}\".format(problem.initial, ' -> '.join(path)))\n",
    "else:\n",
    "    print(\"No solution found.\")"
   ]
  },
  {
   "cell_type": "markdown",
   "metadata": {},
   "source": [
    "# Bidi Search \n"
   ]
  },
  {
   "cell_type": "markdown",
   "metadata": {},
   "source": [
    "start from two side -> use BFS to search till come meet each other ?"
   ]
  },
  {
   "cell_type": "code",
   "execution_count": 33,
   "metadata": {},
   "outputs": [],
   "source": [
    "import copy\n",
    "\n",
    "class CountCalls:\n",
    "    \"\"\"Delegate all attribute gets to the object, and count them in ._counts\"\"\"\n",
    "    def __init__(self, obj):\n",
    "        self._object = obj\n",
    "        self._counts = Counter()\n",
    "        \n",
    "    def __getattr__(self, attr):\n",
    "        \"Delegate to the original object, after incrementing a counter.\"\n",
    "        self._counts[attr] += 1\n",
    "        return getattr(self._object, attr)\n",
    "\n",
    "def path_cost(n): return n.path_cost\n",
    "def inverse_problem(problem):\n",
    "    if isinstance(problem, CountCalls):\n",
    "        return CountCalls(inverse_problem(problem._object))\n",
    "    else:\n",
    "        inv = copy.copy(problem)\n",
    "        inv.initial, inv.goal = inv.goal, inv.initial\n",
    "        return inv"
   ]
  },
  {
   "cell_type": "code",
   "execution_count": 34,
   "metadata": {},
   "outputs": [],
   "source": [
    "\"\"\"Additional function for solving Bidi Search\"\"\"\n",
    "def join_nodes(nf, nb):\n",
    "    \"\"\"Join the reverse of the backward node nb to the forward node nf.\"\"\"\n",
    "    #print('join', S(nf), S(nb))\n",
    "    join = nf\n",
    "    while nb.parent is not None:\n",
    "        cost = join.path_cost + nb.path_cost - nb.parent.path_cost\n",
    "        join = Node(nb.parent.state, join, nb.action, cost)\n",
    "        nb = nb.parent\n",
    "        #print('  now join', S(join), 'with nb', S(nb), 'parent', S(nb.parent))\n",
    "    return join\n",
    "def path_states(node):\n",
    "    \"The sequence of states to get to this node.\"\n",
    "    if node in (cutoff, failure, None): \n",
    "        return []\n",
    "    return path_states(node.parent) + [node.state]\n",
    "\n",
    "def proceed(direction, problem, frontier, reached, reached2, solution):\n",
    "    node = frontier.get()\n",
    "    for child in expand(problem, node):\n",
    "        s = child.state\n",
    "        #print('proceed', direction, path_states(child))\n",
    "        if s not in reached or child.path_cost < reached[s].path_cost:\n",
    "            frontier.put(child)\n",
    "            reached[s] = child\n",
    "            if s in reached2: # Frontiers collide; solution found\n",
    "                solution2 = (join_nodes(child, reached2[s]) if direction == 'f' else\n",
    "                             join_nodes(reached2[s], child))\n",
    "                if solution2.path_cost < solution.path_cost:\n",
    "                    solution = solution2\n",
    "    return solution\n",
    "def terminated(solution, frontier_f, frontier_b):\n",
    "        n_f, n_b = frontier_f.queue[0], frontier_b.queue[0]\n",
    "        return path_cost(n_f) + path_cost(n_b) > path_cost(solution)"
   ]
  },
  {
   "cell_type": "code",
   "execution_count": 35,
   "metadata": {},
   "outputs": [],
   "source": [
    "\n",
    "from queue import PriorityQueue\n",
    "\n",
    "def bidirectional_best_first_search(problem_f, f_f, problem_b, f_b, terminated):\n",
    "    \"\"\"\n",
    "    BIBF-SEARCH( problemF , fF , problemB , fB ) returns a solution node, or failure\n",
    "    \n",
    "    nodeF ← NODE(problemF.INITIAL)  # Node for a start state\n",
    "    \n",
    "    nodeB ← NODE(problemB.INITIAL)  # Node for a goal state\n",
    "    \n",
    "    frontierF ← a priority queue ordered by fF, with nodeF as an element\n",
    "    \n",
    "    frontierB ← a priority queue ordered by fB, with nodeB as an element\n",
    "    \n",
    "    reachedF ← a lookup table, with one key nodeF.STATE and value nodeF\n",
    "    \n",
    "    reachedB ← a lookup table, with one key nodeB.STATE and value nodeB\n",
    "    \n",
    "    solution ← failure\n",
    "\n",
    "    while not TERMINATED(solution, frontierF, frontierB):\n",
    "        if fF(TOP(frontierF)) < fB(TOP(frontierB)):\n",
    "            solution = PROCEED('f', problemF, frontierF, reachedF, reachedB, solution)\n",
    "        else:\n",
    "            solution = PROCEED('b', problemB, frontierB, reachedB, reachedF, solution)\n",
    "\n",
    "    return solution\"\"\"\n",
    "    node_f = Node(problem_f.initial)\n",
    "    node_b = Node(problem_f.goal)\n",
    "    frontier_f = PriorityQueue()\n",
    "    frontier_b = PriorityQueue()\n",
    "    frontier_f.put(node_f)\n",
    "    frontier_b.put(node_b)\n",
    "    reached_f = {problem_f.initial: node_f}\n",
    "    reached_b = {problem_b.initial: node_b}\n",
    "    solution = failure\n",
    "\n",
    "    while frontier_f and frontier_b and not terminated(solution, frontier_f, frontier_b):\n",
    "        def S1(node, f):\n",
    "            return str(int(f(node))) + ' ' + str(path_states(node))\n",
    "        #print('Bi:', S1(frontier_f.queue[0], f_f), S1(frontier_b.queue[0], f_b))\n",
    "        if f_f(frontier_f.queue[0]) < f_b(frontier_b.queue[0]):\n",
    "            solution = proceed('f', problem_f, frontier_f, reached_f, reached_b, solution)\n",
    "        else:\n",
    "            solution = proceed('b', problem_b, frontier_b, reached_b, reached_f, solution)\n",
    "    return solution\n",
    "def bidi_search(problem):\n",
    "    return bidirectional_best_first_search(problem, path_cost, inverse_problem(problem), path_cost, terminated)\n",
    "\n"
   ]
  },
  {
   "cell_type": "code",
   "execution_count": 36,
   "metadata": {},
   "outputs": [
    {
     "name": "stdout",
     "output_type": "stream",
     "text": [
      "Solution Path from A : S -> R -> P -> B\n"
     ]
    }
   ],
   "source": [
    "solution_node = bidi_search(problem)\n",
    "\n",
    "if solution_node:\n",
    "    path = []\n",
    "    while solution_node:\n",
    "        path.insert(0, solution_node.state)\n",
    "        solution_node = solution_node.parent\n",
    "    print(\"Solution Path from {} : {}\".format(problem.initial, ' -> '.join(path)))\n",
    "else:\n",
    "    print(\"No solution found.\")"
   ]
  },
  {
   "cell_type": "code",
   "execution_count": 39,
   "metadata": {},
   "outputs": [],
   "source": [
    "def report(searchers, problems):\n",
    "    \"\"\"Summary report\"\"\"\n",
    "    for searcher in searchers:\n",
    "        print(searcher.__name__ + ':')\n",
    "        total_counts = Counter()\n",
    "        for p in problems:\n",
    "            prob   = CountCalls(p)\n",
    "            soln   = searcher(prob)\n",
    "            counts = prob._counts; \n",
    "            counts.update(actions=len(soln), cost=soln.path_cost)\n",
    "            total_counts += counts\n",
    "            report_counts(counts, str(p)[:40])\n",
    "        \n",
    "def report_counts(counts, name):\n",
    "    \"\"\"Print one line of the counts report.\"\"\"\n",
    "    print('{} | {:9,d} nodes |{:9,d} goal |{:5.0f} cost |{:8,d} actions | {}'.format(\"Sucess\" if counts['cost'] != math.inf else \"Fail\",\n",
    "          counts['result'], counts['is_goal'], counts['cost'], counts['actions'], name))"
   ]
  },
  {
   "cell_type": "code",
   "execution_count": 40,
   "metadata": {},
   "outputs": [
    {
     "name": "stdout",
     "output_type": "stream",
     "text": [
      "breadth_first_search:\n",
      "Sucess |        18 nodes |       19 goal |  450 cost |      10 actions | RomaniaProblem('A', 'B')\n",
      "uniform_cost_search:\n",
      "Sucess |        30 nodes |       13 goal |  418 cost |      16 actions | RomaniaProblem('A', 'B')\n",
      "depth_first_search:\n",
      "Sucess |        17 nodes |        8 goal |  733 cost |      14 actions | RomaniaProblem('A', 'B')\n",
      "depth_limited_search:\n",
      "Fail |         3 nodes |        4 goal |  inf cost |       1 actions | RomaniaProblem('A', 'B')\n",
      "iterative_deepening_search:\n",
      "Sucess |        27 nodes |       25 goal |  450 cost |      13 actions | RomaniaProblem('A', 'B')\n",
      "bidi_search:\n",
      "Sucess |        13 nodes |        0 goal |  418 cost |       9 actions | RomaniaProblem('A', 'B')\n"
     ]
    }
   ],
   "source": [
    "report([breadth_first_search,uniform_cost_search,depth_first_search,depth_limited_search,iterative_deepening_search,bidi_search], [problem])"
   ]
  }
 ],
 "metadata": {
  "kernelspec": {
   "display_name": "base",
   "language": "python",
   "name": "python3"
  },
  "language_info": {
   "codemirror_mode": {
    "name": "ipython",
    "version": 3
   },
   "file_extension": ".py",
   "mimetype": "text/x-python",
   "name": "python",
   "nbconvert_exporter": "python",
   "pygments_lexer": "ipython3",
   "version": "3.10.9"
  }
 },
 "nbformat": 4,
 "nbformat_minor": 2
}
